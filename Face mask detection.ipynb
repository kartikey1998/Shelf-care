{
 "cells": [
  {
   "cell_type": "markdown",
   "id": "e9691578",
   "metadata": {},
   "source": [
    "# Importing library "
   ]
  },
  {
   "cell_type": "code",
   "execution_count": 57,
   "id": "328dc38a",
   "metadata": {},
   "outputs": [],
   "source": [
    "import tensorflow as tf\n",
    "import pandas as pd\n",
    "import numpy as np"
   ]
  },
  {
   "cell_type": "markdown",
   "id": "031d9fb0",
   "metadata": {},
   "source": [
    "# Paths Setups"
   ]
  },
  {
   "cell_type": "code",
   "execution_count": 58,
   "id": "c02f1cf5",
   "metadata": {},
   "outputs": [],
   "source": [
    "WORKSPACE_PATH = 'C:/Users/chhip/Desktop/Tensorflow/workspace/facedetection'\n",
    "SCRIPTS_PATH = 'C:/Users/chhip/Desktop/Tensorflow/scripts/preprocessing'\n",
    "APIMODEL_PATH = 'C:/Users/chhip/Desktop/Tensorflow/models'\n",
    "ANNOTATION_PATH = WORKSPACE_PATH+'/annotations'\n",
    "IMAGE_PATH = WORKSPACE_PATH+'/images'\n",
    "MODEL_PATH = WORKSPACE_PATH+'/models'\n",
    "PRETRAINED_MODEL_PATH = WORKSPACE_PATH+'/pre-trained-models'\n",
    "CONFIG_PATH = MODEL_PATH+'/my_ssd_mobnet/pipeline.config'\n",
    "CHECKPOINT_PATH = MODEL_PATH+'/my_ssd_mobnet/'"
   ]
  },
  {
   "cell_type": "markdown",
   "id": "54adf62c",
   "metadata": {},
   "source": [
    "# Creating label Map "
   ]
  },
  {
   "cell_type": "code",
   "execution_count": 59,
   "id": "c48aa64b",
   "metadata": {},
   "outputs": [
    {
     "data": {
      "text/html": [
       "<div>\n",
       "<style scoped>\n",
       "    .dataframe tbody tr th:only-of-type {\n",
       "        vertical-align: middle;\n",
       "    }\n",
       "\n",
       "    .dataframe tbody tr th {\n",
       "        vertical-align: top;\n",
       "    }\n",
       "\n",
       "    .dataframe thead th {\n",
       "        text-align: right;\n",
       "    }\n",
       "</style>\n",
       "<table border=\"1\" class=\"dataframe\">\n",
       "  <thead>\n",
       "    <tr style=\"text-align: right;\">\n",
       "      <th></th>\n",
       "      <th>name</th>\n",
       "      <th>x1</th>\n",
       "      <th>x2</th>\n",
       "      <th>y1</th>\n",
       "      <th>y2</th>\n",
       "      <th>classname</th>\n",
       "    </tr>\n",
       "  </thead>\n",
       "  <tbody>\n",
       "    <tr>\n",
       "      <th>0</th>\n",
       "      <td>2756.png</td>\n",
       "      <td>69</td>\n",
       "      <td>126</td>\n",
       "      <td>294</td>\n",
       "      <td>392</td>\n",
       "      <td>face_with_mask</td>\n",
       "    </tr>\n",
       "    <tr>\n",
       "      <th>1</th>\n",
       "      <td>2756.png</td>\n",
       "      <td>505</td>\n",
       "      <td>10</td>\n",
       "      <td>723</td>\n",
       "      <td>283</td>\n",
       "      <td>face_with_mask</td>\n",
       "    </tr>\n",
       "    <tr>\n",
       "      <th>2</th>\n",
       "      <td>2756.png</td>\n",
       "      <td>75</td>\n",
       "      <td>252</td>\n",
       "      <td>264</td>\n",
       "      <td>390</td>\n",
       "      <td>mask_colorful</td>\n",
       "    </tr>\n",
       "    <tr>\n",
       "      <th>3</th>\n",
       "      <td>2756.png</td>\n",
       "      <td>521</td>\n",
       "      <td>136</td>\n",
       "      <td>711</td>\n",
       "      <td>277</td>\n",
       "      <td>mask_colorful</td>\n",
       "    </tr>\n",
       "    <tr>\n",
       "      <th>4</th>\n",
       "      <td>6098.jpg</td>\n",
       "      <td>360</td>\n",
       "      <td>85</td>\n",
       "      <td>728</td>\n",
       "      <td>653</td>\n",
       "      <td>face_no_mask</td>\n",
       "    </tr>\n",
       "  </tbody>\n",
       "</table>\n",
       "</div>"
      ],
      "text/plain": [
       "       name   x1   x2   y1   y2       classname\n",
       "0  2756.png   69  126  294  392  face_with_mask\n",
       "1  2756.png  505   10  723  283  face_with_mask\n",
       "2  2756.png   75  252  264  390   mask_colorful\n",
       "3  2756.png  521  136  711  277   mask_colorful\n",
       "4  6098.jpg  360   85  728  653    face_no_mask"
      ]
     },
     "execution_count": 59,
     "metadata": {},
     "output_type": "execute_result"
    }
   ],
   "source": [
    "df = pd.read_csv(r'C:\\Users\\chhip\\Desktop\\Tensorflow\\workspace\\archive (4)\\train.csv')\n",
    "df.head()"
   ]
  },
  {
   "cell_type": "code",
   "execution_count": 60,
   "id": "9373c953",
   "metadata": {},
   "outputs": [],
   "source": [
    "lst = list(df['classname'].unique())\n",
    "\n",
    "labels =[]\n",
    "for i in range(1, len(lst)+1):\n",
    "    labels.append({'name':lst[i-1], 'id':i})"
   ]
  },
  {
   "cell_type": "code",
   "execution_count": 61,
   "id": "0604d9d0",
   "metadata": {},
   "outputs": [
    {
     "data": {
      "text/plain": [
       "[{'name': 'face_with_mask', 'id': 1},\n",
       " {'name': 'mask_colorful', 'id': 2},\n",
       " {'name': 'face_no_mask', 'id': 3},\n",
       " {'name': 'face_with_mask_incorrect', 'id': 4},\n",
       " {'name': 'mask_surgical', 'id': 5},\n",
       " {'name': 'face_other_covering', 'id': 6},\n",
       " {'name': 'scarf_bandana', 'id': 7},\n",
       " {'name': 'eyeglasses', 'id': 8},\n",
       " {'name': 'helmet', 'id': 9},\n",
       " {'name': 'face_shield', 'id': 10},\n",
       " {'name': 'sunglasses', 'id': 11},\n",
       " {'name': 'hood', 'id': 12},\n",
       " {'name': 'hat', 'id': 13},\n",
       " {'name': 'goggles', 'id': 14},\n",
       " {'name': 'hair_net', 'id': 15},\n",
       " {'name': 'hijab_niqab', 'id': 16},\n",
       " {'name': 'other', 'id': 17},\n",
       " {'name': 'gas_mask', 'id': 18},\n",
       " {'name': 'balaclava_ski_mask', 'id': 19},\n",
       " {'name': 'turban', 'id': 20}]"
      ]
     },
     "execution_count": 61,
     "metadata": {},
     "output_type": "execute_result"
    }
   ],
   "source": [
    "labels"
   ]
  },
  {
   "cell_type": "code",
   "execution_count": 62,
   "id": "5e88c68e",
   "metadata": {},
   "outputs": [],
   "source": [
    "with open(ANNOTATION_PATH + '\\label_map.pbtxt', 'w') as f:\n",
    "    for label in labels:\n",
    "        f.write('item { \\n')\n",
    "        f.write('\\tname:\\'{}\\'\\n'.format(label['name']))\n",
    "        f.write('\\tid:{}\\n'.format(label['id']))\n",
    "        f.write('}\\n')"
   ]
  },
  {
   "cell_type": "code",
   "execution_count": null,
   "id": "05e5ea39",
   "metadata": {},
   "outputs": [],
   "source": []
  },
  {
   "cell_type": "markdown",
   "id": "e85fab1c",
   "metadata": {},
   "source": [
    "### Generating the TF RECORD"
   ]
  },
  {
   "cell_type": "code",
   "execution_count": 63,
   "id": "8cc65fbe",
   "metadata": {},
   "outputs": [
    {
     "name": "stderr",
     "output_type": "stream",
     "text": [
      "2021-07-17 18:24:48.157458: I tensorflow/stream_executor/platform/default/dso_loader.cc:53] Successfully opened dynamic library cudart64_110.dll\n",
      "usage: create_tfrecords1.py [-h] --dataset_path DATASET_PATH --prefix\n",
      "                            DATASET_NAME --output_dir OUTPUT_DIR --shards\n",
      "                            NUM_SHARDS --threads NUM_THREADS [--shuffle]\n",
      "                            [--store_images]\n",
      "create_tfrecords1.py: error: the following arguments are required: --dataset_path, --prefix, --output_dir, --shards, --threads\n",
      "2021-07-17 18:24:51.924678: I tensorflow/stream_executor/platform/default/dso_loader.cc:53] Successfully opened dynamic library cudart64_110.dll\n",
      "usage: create_tfrecords1.py [-h] --dataset_path DATASET_PATH --prefix\n",
      "                            DATASET_NAME --output_dir OUTPUT_DIR --shards\n",
      "                            NUM_SHARDS --threads NUM_THREADS [--shuffle]\n",
      "                            [--store_images]\n",
      "create_tfrecords1.py: error: the following arguments are required: --dataset_path, --prefix, --output_dir, --shards, --threads\n"
     ]
    }
   ],
   "source": [
    "!python {SCRIPTS_PATH + '/create_tfrecords1.py'} -x {IMAGE_PATH + '/train'} -l {ANNOTATION_PATH + '/label_map.pbtxt'} -o {ANNOTATION_PATH + '/train.record'}\n",
    "!python {SCRIPTS_PATH + '/create_tfrecords1.py'} -x{IMAGE_PATH + '/test'} -l {ANNOTATION_PATH + '/label_map.pbtxt'} -o {ANNOTATION_PATH + '/test.record'}\n"
   ]
  },
  {
   "cell_type": "markdown",
   "id": "adb18095",
   "metadata": {},
   "source": [
    "### Copy model config to training Folder"
   ]
  },
  {
   "cell_type": "code",
   "execution_count": 64,
   "id": "aadc6729",
   "metadata": {},
   "outputs": [],
   "source": [
    "CUSTOM_MODEL_NAME = 'my_ssd_mobnet'"
   ]
  },
  {
   "cell_type": "code",
   "execution_count": 65,
   "id": "cf52c040",
   "metadata": {},
   "outputs": [
    {
     "name": "stderr",
     "output_type": "stream",
     "text": [
      "A subdirectory or file workspace\\facedetection\\models\\my_ssd_mobnet already exists.\n"
     ]
    }
   ],
   "source": [
    "!mkdir workspace\\facedetection\\models\\my_ssd_mobnet"
   ]
  },
  {
   "cell_type": "code",
   "execution_count": 66,
   "id": "cb0e6260",
   "metadata": {},
   "outputs": [
    {
     "name": "stdout",
     "output_type": "stream",
     "text": [
      "The syntax of the command is incorrect.\n"
     ]
    }
   ],
   "source": [
    "!copy {PRETRAINED_MODEL_PATH+'/ssd_mobilenet_v2_fpnlite_320x320_coco17_tpu-8/pipeline.config'} {MODEL_PATH+'/'+CUSTOM_MODEL_NAME}\n"
   ]
  },
  {
   "cell_type": "code",
   "execution_count": 67,
   "id": "af2f0663",
   "metadata": {},
   "outputs": [],
   "source": [
    "from object_detection.utils import config_util\n",
    "from object_detection.protos import pipeline_pb2\n",
    "from google.protobuf import text_format"
   ]
  }
 ],
 "metadata": {
  "kernelspec": {
   "display_name": "Python 3",
   "language": "python",
   "name": "python3"
  },
  "language_info": {
   "codemirror_mode": {
    "name": "ipython",
    "version": 3
   },
   "file_extension": ".py",
   "mimetype": "text/x-python",
   "name": "python",
   "nbconvert_exporter": "python",
   "pygments_lexer": "ipython3",
   "version": "3.8.10"
  }
 },
 "nbformat": 4,
 "nbformat_minor": 5
}
